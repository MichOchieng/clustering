{
 "cells": [
  {
   "cell_type": "code",
   "execution_count": 207,
   "metadata": {},
   "outputs": [],
   "source": [
    "import random\n",
    "import statistics\n",
    "import numpy as np\n",
    "import matplotlib.pyplot as plt\n",
    "from sklearn import datasets\n",
    "from collections import Counter"
   ]
  },
  {
   "cell_type": "markdown",
   "metadata": {},
   "source": [
    "## Setting up data and variables"
   ]
  },
  {
   "cell_type": "code",
   "execution_count": 5,
   "metadata": {},
   "outputs": [],
   "source": [
    "irisData = datasets.load_iris()"
   ]
  },
  {
   "cell_type": "code",
   "execution_count": 6,
   "metadata": {},
   "outputs": [],
   "source": [
    "xVals = irisData['data'][:,2:]\n",
    "yVals = irisData['target']\n",
    "distanceArray = []"
   ]
  },
  {
   "cell_type": "markdown",
   "metadata": {},
   "source": [
    "### Plot of unclassified data"
   ]
  },
  {
   "cell_type": "code",
   "execution_count": 18,
   "metadata": {},
   "outputs": [
    {
     "data": {
      "text/plain": [
       "<matplotlib.collections.PathCollection at 0x1ff521b1f90>"
      ]
     },
     "execution_count": 18,
     "metadata": {},
     "output_type": "execute_result"
    },
    {
     "data": {
      "image/png": "[encoded data removed]",
      "text/plain": [
       "<Figure size 640x480 with 1 Axes>"
      ]
     },
     "metadata": {},
     "output_type": "display_data"
    }
   ],
   "source": [
    "plt.scatter(xVals[:,0],xVals[:,1],marker='o')"
   ]
  },
  {
   "cell_type": "code",
   "execution_count": 224,
   "metadata": {},
   "outputs": [],
   "source": [
    "flowerType = {\n",
    "    0: 'setosa',\n",
    "    1: 'versicolor',\n",
    "    2: 'virginica'\n",
    "}"
   ]
  },
  {
   "cell_type": "markdown",
   "metadata": {},
   "source": [
    "## Functions"
   ]
  },
  {
   "cell_type": "code",
   "execution_count": 8,
   "metadata": {},
   "outputs": [],
   "source": [
    "def getDistance(arr1,arr2):\n",
    "    return (sum((x-y)**2 for x,y in zip(arr1,arr2))**0.5)"
   ]
  },
  {
   "cell_type": "code",
   "execution_count": 190,
   "metadata": {},
   "outputs": [],
   "source": [
    "def createClusters(k):\n",
    "    cluster = dict()\n",
    "    for i in range(k):\n",
    "        cluster[tuple(random.choice(xVals))] = []\n",
    "    return cluster"
   ]
  },
  {
   "cell_type": "code",
   "execution_count": 234,
   "metadata": {},
   "outputs": [],
   "source": [
    "def kmeans(k,points,labels,override):\n",
    "    iter = 0\n",
    "    # Randomly assign centroids on first itteration\n",
    "    if iter == 0 and not override:\n",
    "        clusters = createClusters(k)\n",
    "\n",
    "    if override:\n",
    "        clusters = {\n",
    "            (2,0.5): [],\n",
    "            (4,1): [],\n",
    "            (7,2.5): []\n",
    "        }\n",
    "    prevClusters = {}\n",
    "\n",
    "    while clusters != prevClusters and iter < 300:\n",
    "        # Clear old cluster values\n",
    "        clusters = {key: [] for key in clusters}\n",
    "        # Assign points to centroids\n",
    "        for point,label in zip(points,labels):\n",
    "            distance = -1 \n",
    "            assignedCluster = (-1,-1)\n",
    "            for centroid in clusters:\n",
    "                # Find distance to centroid\n",
    "                tempDistance = getDistance(point,list(centroid))\n",
    "                # Initialize distance and assigned cluster\n",
    "                if distance == -1:\n",
    "                    distance = tempDistance\n",
    "                    assignedCluster = centroid\n",
    "                elif tempDistance < distance:\n",
    "                    distance = tempDistance\n",
    "                    assignedCluster = centroid\n",
    "            # Add point to cluster along with label\n",
    "            clusters[assignedCluster].append(list(np.append(point,label)))\n",
    "        \n",
    "        # Adjust centroids \n",
    "        tempCluster = {}\n",
    "        for centroid in clusters:\n",
    "            # Calculate new centroid key\n",
    "            newCentroid = tuple(\n",
    "                [statistics.mean(x) for x in zip(*clusters[centroid][:-1])]\n",
    "            )\n",
    "            # Add key to temp cluster\n",
    "            tempCluster[tuple(newCentroid)] = clusters[centroid]\n",
    "        iter += 1\n",
    "        prevClusters = clusters\n",
    "        clusters = tempCluster\n",
    "    print('Total iterations: ',iter + 1)\n",
    "    return clusters\n",
    "    "
   ]
  },
  {
   "cell_type": "code",
   "execution_count": 235,
   "metadata": {},
   "outputs": [],
   "source": [
    "def getAccuracy(k,clusters):\n",
    "    accuracyArr = []\n",
    "    for key,val in clusters.items():\n",
    "        # Get list of correct class values of cluster\n",
    "        val = np.array(val)\n",
    "        count = Counter(val[:,-1])\n",
    "        # Determine accuracy \n",
    "        accuracy = count[max(count,key=count.get)] / len(val)\n",
    "        accuracyArr.append(accuracy)\n",
    "        \n",
    "    avgAccuracy = round((statistics.mean(accuracyArr))*100,2)\n",
    "    print('Average accuracy accross clusters when k =',k,': ',avgAccuracy,'%')"
   ]
  },
  {
   "cell_type": "markdown",
   "metadata": {},
   "source": [
    "## Testing"
   ]
  },
  {
   "cell_type": "markdown",
   "metadata": {},
   "source": [
    "### K = 3"
   ]
  },
  {
   "cell_type": "code",
   "execution_count": 236,
   "metadata": {},
   "outputs": [
    {
     "name": "stdout",
     "output_type": "stream",
     "text": [
      "Total iterations:  9\n"
     ]
    }
   ],
   "source": [
    "clusters = kmeans(3,xVals,yVals,True)"
   ]
  },
  {
   "cell_type": "code",
   "execution_count": 237,
   "metadata": {},
   "outputs": [
    {
     "name": "stdout",
     "output_type": "stream",
     "text": [
      "Average accuracy accross clusters when k = 3 :  94.85 %\n"
     ]
    }
   ],
   "source": [
    "getAccuracy(3,clusters=clusters)"
   ]
  },
  {
   "cell_type": "markdown",
   "metadata": {},
   "source": [
    "### Plot of classified data"
   ]
  },
  {
   "cell_type": "code",
   "execution_count": 238,
   "metadata": {},
   "outputs": [
    {
     "name": "stderr",
     "output_type": "stream",
     "text": [
      "*c* argument looks like a single numeric RGB or RGBA sequence, which should be avoided as value-mapping will have precedence in case its length matches with *x* & *y*.  Please use the *color* keyword-argument or provide a 2D array with a single row if you intend to specify the same RGB or RGBA value for all points.\n",
      "*c* argument looks like a single numeric RGB or RGBA sequence, which should be avoided as value-mapping will have precedence in case its length matches with *x* & *y*.  Please use the *color* keyword-argument or provide a 2D array with a single row if you intend to specify the same RGB or RGBA value for all points.\n",
      "*c* argument looks like a single numeric RGB or RGBA sequence, which should be avoided as value-mapping will have precedence in case its length matches with *x* & *y*.  Please use the *color* keyword-argument or provide a 2D array with a single row if you intend to specify the same RGB or RGBA value for all points.\n"
     ]
    },
    {
     "data": {
      "image/png": "[encoded data removed]",
      "text/plain": [
       "<Figure size 640x480 with 1 Axes>"
      ]
     },
     "metadata": {},
     "output_type": "display_data"
    }
   ],
   "source": [
    "centers = np.array([*list(clusters.keys())])\n",
    "for key,val in clusters.items():\n",
    "    val = np.array(val)\n",
    "    plt.scatter(val[:, 0], val[:, 1], c=np.random.rand(3,),marker='o')\n",
    "\n",
    "plt.scatter(centers[:, 0], centers[:, 1], c='black',s=100, alpha=0.5)\n",
    "plt.show()"
   ]
  },
  {
   "cell_type": "markdown",
   "metadata": {},
   "source": [
    "It took 8 itterations to converge. The average accuray of the clusters when K = 3 is 94."
   ]
  },
  {
   "cell_type": "markdown",
   "metadata": {},
   "source": [
    "### 1 <= K <= 10"
   ]
  },
  {
   "cell_type": "code",
   "execution_count": 241,
   "metadata": {},
   "outputs": [
    {
     "name": "stdout",
     "output_type": "stream",
     "text": [
      "Total iterations:  3\n",
      "Average accuracy accross clusters when k = 1 :  33.33 %\n",
      "Total iterations:  5\n",
      "Average accuracy accross clusters when k = 2 :  74.27 %\n",
      "Total iterations:  6\n",
      "Average accuracy accross clusters when k = 3 :  96.05 %\n",
      "Total iterations:  5\n",
      "Average accuracy accross clusters when k = 4 :  85.13 %\n",
      "Total iterations:  11\n",
      "Average accuracy accross clusters when k = 5 :  90.27 %\n",
      "Total iterations:  5\n",
      "Average accuracy accross clusters when k = 6 :  82.27 %\n",
      "Total iterations:  14\n",
      "Average accuracy accross clusters when k = 7 :  96.95 %\n",
      "Total iterations:  13\n",
      "Average accuracy accross clusters when k = 8 :  95.39 %\n",
      "Total iterations:  8\n",
      "Average accuracy accross clusters when k = 9 :  97.17 %\n",
      "Total iterations:  7\n",
      "Average accuracy accross clusters when k = 10 :  94.81 %\n"
     ]
    }
   ],
   "source": [
    "for k in range(1,11):\n",
    "   tempClusters = kmeans(k,xVals,yVals,False)\n",
    "   getAccuracy(k,clusters=tempClusters)"
   ]
  }
 ],
 "metadata": {
  "kernelspec": {
   "display_name": "Python 3.10.8 64-bit",
   "language": "python",
   "name": "python3"
  },
  "language_info": {
   "codemirror_mode": {
    "name": "ipython",
    "version": 3
   },
   "file_extension": ".py",
   "mimetype": "text/x-python",
   "name": "python",
   "nbconvert_exporter": "python",
   "pygments_lexer": "ipython3",
   "version": "3.10.8"
  },
  "orig_nbformat": 4,
  "vscode": {
   "interpreter": {
    "hash": "8b729ff7d4072bc5933c4a7cb0f0b980fdd4749274374f4d00062b782e552eb6"
   }
  }
 },
 "nbformat": 4,
 "nbformat_minor": 2
}
