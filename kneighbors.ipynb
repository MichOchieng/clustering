{
 "cells": [
  {
   "cell_type": "code",
   "execution_count": 1,
   "metadata": {},
   "outputs": [],
   "source": [
    "import numpy as np\n",
    "import matplotlib.pyplot as plt\n",
    "from sklearn import datasets\n",
    "from sklearn.model_selection import train_test_split"
   ]
  },
  {
   "cell_type": "markdown",
   "metadata": {},
   "source": [
    "## Setting up data"
   ]
  },
  {
   "cell_type": "code",
   "execution_count": 2,
   "metadata": {},
   "outputs": [],
   "source": [
    "irisData = datasets.load_iris()"
   ]
  },
  {
   "cell_type": "code",
   "execution_count": 75,
   "metadata": {},
   "outputs": [],
   "source": [
    "xVals = irisData['data']\n",
    "yVals = irisData['target']\n",
    "K = 5\n",
    "distanceArray = []"
   ]
  },
  {
   "cell_type": "code",
   "execution_count": 70,
   "metadata": {},
   "outputs": [],
   "source": [
    "xTrain, xTest, yTrain, yTest = train_test_split(\n",
    "    xVals,\n",
    "    yVals,\n",
    "    train_size=0.1,\n",
    "    shuffle=True\n",
    ")"
   ]
  },
  {
   "cell_type": "markdown",
   "metadata": {},
   "source": [
    "## Functions"
   ]
  },
  {
   "cell_type": "code",
   "execution_count": 71,
   "metadata": {},
   "outputs": [],
   "source": [
    "def l2Norm(vector):\n",
    "    return np.sqrt(\n",
    "            sum(\n",
    "                map(lambda x: x ** 2, vector)\n",
    "            )\n",
    "        )"
   ]
  },
  {
   "cell_type": "code",
   "execution_count": 72,
   "metadata": {},
   "outputs": [],
   "source": [
    "def getDistance(current,target):\n",
    "    return np.abs(\n",
    "        l2Norm(current) - l2Norm(target)\n",
    "    )"
   ]
  },
  {
   "cell_type": "code",
   "execution_count": 84,
   "metadata": {},
   "outputs": [],
   "source": [
    "flowerType = {\n",
    "    0: 'setosa',\n",
    "    1: 'versicolor',\n",
    "    2: 'virginica'\n",
    "}"
   ]
  },
  {
   "cell_type": "code",
   "execution_count": 89,
   "metadata": {},
   "outputs": [],
   "source": [
    "from statistics import mode\n",
    "\n",
    "def predictClass(point,xVals,yVals,distanceArray):\n",
    "    distanceArray.clear()\n",
    "    # Calculate distances \n",
    "    #   Adds tuple (distance,class) to distance array\n",
    "    for val in zip(xVals,yVals):\n",
    "        distanceArray.append(\n",
    "            (getDistance(point,val[0]),val[1])\n",
    "        )\n",
    "    # Sort the distance array\n",
    "    distanceArray.sort(key=lambda tup: tup[0])\n",
    "    # Grab the first K values of distance array\n",
    "    distanceArray = distanceArray[:K]\n",
    "    # Find common class\n",
    "    classes = [i[1] for i in distanceArray]\n",
    "    print(\"Prediction: \", flowerType[mode(classes)])\n"
   ]
  },
  {
   "cell_type": "code",
   "execution_count": 99,
   "metadata": {},
   "outputs": [
    {
     "name": "stdout",
     "output_type": "stream",
     "text": [
      "[7.1 3.  5.9 2.1]\n",
      "Prediction:  virginica\n"
     ]
    }
   ],
   "source": [
    "testVal = xTest[10]\n",
    "print(testVal)\n",
    "predictClass(testVal,xTrain,yTrain,distanceArray)"
   ]
  },
  {
   "cell_type": "markdown",
   "metadata": {},
   "source": [
    "## Testing"
   ]
  },
  {
   "cell_type": "markdown",
   "metadata": {},
   "source": [
    "### K = 5"
   ]
  },
  {
   "cell_type": "markdown",
   "metadata": {},
   "source": [
    "### 1 <= K <= 40"
   ]
  }
 ],
 "metadata": {
  "kernelspec": {
   "display_name": "Python 3.10.8 64-bit",
   "language": "python",
   "name": "python3"
  },
  "language_info": {
   "codemirror_mode": {
    "name": "ipython",
    "version": 3
   },
   "file_extension": ".py",
   "mimetype": "text/x-python",
   "name": "python",
   "nbconvert_exporter": "python",
   "pygments_lexer": "ipython3",
   "version": "3.10.8"
  },
  "orig_nbformat": 4,
  "vscode": {
   "interpreter": {
    "hash": "8b729ff7d4072bc5933c4a7cb0f0b980fdd4749274374f4d00062b782e552eb6"
   }
  }
 },
 "nbformat": 4,
 "nbformat_minor": 2
}
