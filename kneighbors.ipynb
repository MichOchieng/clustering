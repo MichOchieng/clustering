{
 "cells": [
  {
   "cell_type": "code",
   "execution_count": 24,
   "metadata": {},
   "outputs": [],
   "source": [
    "import numpy as np\n",
    "import matplotlib.pyplot as plt\n",
    "from sklearn import datasets\n",
    "from statistics import mode\n",
    "from sklearn.model_selection import train_test_split"
   ]
  },
  {
   "cell_type": "markdown",
   "metadata": {},
   "source": [
    "## Setting up data"
   ]
  },
  {
   "cell_type": "code",
   "execution_count": 2,
   "metadata": {},
   "outputs": [],
   "source": [
    "irisData = datasets.load_iris()"
   ]
  },
  {
   "cell_type": "code",
   "execution_count": 92,
   "metadata": {},
   "outputs": [],
   "source": [
    "xVals = irisData['data']\n",
    "yVals = irisData['target']\n",
    "distanceArray = []"
   ]
  },
  {
   "cell_type": "code",
   "execution_count": 93,
   "metadata": {},
   "outputs": [],
   "source": [
    "xTrain, xTest, yTrain, yTest = train_test_split(\n",
    "    xVals,\n",
    "    yVals,\n",
    "    train_size=0.1,\n",
    ")"
   ]
  },
  {
   "cell_type": "markdown",
   "metadata": {},
   "source": [
    "## Functions"
   ]
  },
  {
   "cell_type": "code",
   "execution_count": 94,
   "metadata": {},
   "outputs": [],
   "source": [
    "def getDistance(arr1,arr2):\n",
    "    return (sum((x-y)**2 for x,y in zip(arr1,arr2))**0.5)"
   ]
  },
  {
   "cell_type": "code",
   "execution_count": 95,
   "metadata": {},
   "outputs": [],
   "source": [
    "flowerType = {\n",
    "    0: 'setosa',\n",
    "    1: 'versicolor',\n",
    "    2: 'virginica'\n",
    "}"
   ]
  },
  {
   "cell_type": "code",
   "execution_count": 100,
   "metadata": {},
   "outputs": [],
   "source": [
    "def predictClass(point,distanceArray,K):\n",
    "    distanceArray.clear()\n",
    "    # Calculate distances \n",
    "    #   Adds tuple (distance,class) to distance array\n",
    "    for val in zip(xTrain,yTrain):\n",
    "        distanceArray.append(\n",
    "            (getDistance(point,val[0]),val[1])\n",
    "        )\n",
    "    # Sort the distance array\n",
    "    distanceArray.sort(key=lambda tup: tup[0])\n",
    "    # Grab the first K values of distance array\n",
    "    distanceArray = distanceArray[:K]\n",
    "    # Find common class\n",
    "    classes = [i[1] for i in distanceArray]\n",
    "    return flowerType[mode(classes)]\n"
   ]
  },
  {
   "cell_type": "markdown",
   "metadata": {},
   "source": [
    "## Testing"
   ]
  },
  {
   "cell_type": "markdown",
   "metadata": {},
   "source": [
    "### K = 5"
   ]
  },
  {
   "cell_type": "code",
   "execution_count": 104,
   "metadata": {},
   "outputs": [
    {
     "name": "stdout",
     "output_type": "stream",
     "text": [
      "Accuracy for K =  5 :  94.07 %\n"
     ]
    }
   ],
   "source": [
    "correctCount = 0\n",
    "K = 5\n",
    "for vals in zip(xTest,yTest):\n",
    "    prediction = predictClass(vals[0],distanceArray,K)\n",
    "    answer = flowerType[vals[1]]\n",
    "    if prediction == answer:\n",
    "        correctCount += 1\n",
    "print(\"Accuracy for K = \",K,\": \", round((correctCount/len(xTest))*100,2),\"%\")"
   ]
  },
  {
   "cell_type": "markdown",
   "metadata": {},
   "source": [
    "### 1 <= K <= 40"
   ]
  },
  {
   "cell_type": "code",
   "execution_count": 114,
   "metadata": {},
   "outputs": [],
   "source": [
    "accuracyArr = []\n",
    "\n",
    "for k in range(1,41):\n",
    "    K = k\n",
    "    correctCount = 0\n",
    "    for vals in zip(xTest,yTest):\n",
    "        prediction = predictClass(vals[0],distanceArray,K)\n",
    "        answer = flowerType[vals[1]]\n",
    "        if prediction == answer:\n",
    "            correctCount += 1\n",
    "    accuracyArr.append(round((correctCount/len(xTest))*100,2))"
   ]
  },
  {
   "cell_type": "code",
   "execution_count": 124,
   "metadata": {},
   "outputs": [
    {
     "data": {
      "image/png": "[encoded data removed]",
      "text/plain": [
       "<Figure size 864x360 with 1 Axes>"
      ]
     },
     "metadata": {
      "needs_background": "light"
     },
     "output_type": "display_data"
    }
   ],
   "source": [
    "fig, axs = plt.subplots(figsize=(12,5))\n",
    "axs.plot(range(1,41),accuracyArr,'tab:green')\n",
    "axs.set_title('Accuracy vs Size of K')\n",
    "axs.set(xlabel='K')\n",
    "axs.set(ylabel='Accuracy (%)')\n",
    "plt.xticks(range(1,41,2))\n",
    "plt.show()\n"
   ]
  },
  {
   "cell_type": "markdown",
   "metadata": {},
   "source": [
    "From the above graph we can see the ideal range of k for this dataset is approximately from 1-9."
   ]
  },
  {
   "cell_type": "code",
   "execution_count": null,
   "metadata": {},
   "outputs": [],
   "source": []
  }
 ],
 "metadata": {
  "kernelspec": {
   "display_name": "Python 3 (ipykernel)",
   "language": "python",
   "name": "python3"
  },
  "language_info": {
   "codemirror_mode": {
    "name": "ipython",
    "version": 3
   },
   "file_extension": ".py",
   "mimetype": "text/x-python",
   "name": "python",
   "nbconvert_exporter": "python",
   "pygments_lexer": "ipython3",
   "version": "3.9.12"
  },
  "vscode": {
   "interpreter": {
    "hash": "8b729ff7d4072bc5933c4a7cb0f0b980fdd4749274374f4d00062b782e552eb6"
   }
  }
 },
 "nbformat": 4,
 "nbformat_minor": 4
}
